{
 "cells": [
  {
   "cell_type": "markdown",
   "metadata": {},
   "source": [
    "# Description of Each of the Constraint Generator Functions"
   ]
  },
  {
   "cell_type": "markdown",
   "metadata": {},
   "source": [
    "The class `constr_gen` is a Constraint Generator class that is meant to easily construct certain dual/other constraints that are repeatedly used in this work on Equalized Recovery. Because each of these constraints represents a significantly large mathematical concept, we find it hard to illustrate in the matlab function itself and instead realy on this document to present each of the function's in-depth description."
   ]
  },
  {
   "cell_type": "markdown",
   "metadata": {},
   "source": [
    "## Notation"
   ]
  },
  {
   "cell_type": "markdown",
   "metadata": {},
   "source": [
    "A _zonotope_ is a set of points defined as follows:\n",
    "$$ \\mathcal{Z} = \\left \\{ x \\in \\mathbb{R}^n \\; | \\; \\exists \\lambda \\text{ s.t. } (\\|\\lambda\\|_{\\infty} \\leq 1) \\wedge (x = G \\lambda + c\\right) \\} $$\n",
    "Note that the zonotope is entirely parameterized by $G$ and $c$. Thus, in the code, we will typically assume that every zonotope has its set of generators $G$ and its center $c$ defined and will reference them with `Z.G` and `Z.c` respectively."
   ]
  },
  {
   "cell_type": "markdown",
   "metadata": {},
   "source": [
    "This work discusses so-called $\\alpha$-zonotopes, which are defined as sets defined by the parameter $\\alpha$ as follows:\n",
    "$$ \\mathcal{Z}(\\alpha) = \\left \\{ x \\in \\mathbb{R}^n \\; | \\; \\exists \\lambda \\text{ s.t. } (\\|\\lambda\\|_{\\infty} \\leq \\alpha) \\wedge (x = G \\lambda + c\\right) \\} $$"
   ]
  },
  {
   "cell_type": "markdown",
   "metadata": {},
   "source": [
    "### Zonotope Inclusion 1 (`get_zonot_inclusion_constr`)"
   ]
  },
  {
   "cell_type": "markdown",
   "metadata": {},
   "source": [
    "This algorithm automates the creation of constraints that solve the problem:\n",
    "$$\n",
    "\\begin{array}{rll}\n",
    "  \\underset{\n",
    "  \t\\begin{array}{c}\n",
    "  \t\t\\theta_2 \\in \\mathbb{R} \\\\\n",
    "  \t\\end{array} }{\\text{min}} & \\theta_2 \\\\\n",
    "  \t\\text{subject to} \t& \\forall x \\in \\mathcal{Z}_{I}: \\\\\n",
    "  \t\t\t\t\t\t& \\quad  Ax + b \\in \\mathcal{Z}_{C}(\\theta_2) \\\\\n",
    "\\end{array} \n",
    "$$\n",
    "Note that this follows the notation of Sadraddini and Tedrake, where the problem $\\mathcal{Z}_I \\subseteq \\mathcal{Z}_C$ uses the term _inbody_ to refer to the set to be included ($\\mathcal{Z}_I$ and the term _circumbody_ to refer to the set that includes the other ($\\mathcal{Z}_C$)."
   ]
  },
  {
   "cell_type": "markdown",
   "metadata": {},
   "source": [
    "After applying duality to remove the forall constraints we obtain the following optimization:\n",
    "$$\n",
    "\\begin{array}{rll}\n",
    "  \\underset{\n",
    "  \t\\begin{array}{c}\n",
    "  \t\t\\theta_2 \\in \\mathbb{R} \\\\\n",
    "  \t\t\\left \\{ \\Pi^{(j)} \\right \\} \\; \\forall j \\in \\{1,2,3,4 \\} \\\\\n",
    "        \\left \\{ \\Lambda^{(j)} \\right \\} \\; \\forall j \\in \\{1,2\\}\n",
    "  \t\\end{array} }{\\text{min}} & \\theta_2 \\\\\n",
    "  \t\\text{subject to} \t& (\\Pi^{(1)})^\\top \\underline{1}_{2n_1 \\times 1} + (\\Lambda^{(1)})^\\top \\left[ \\begin{array}{c} c_{\\overline{\\mathcal{Z}}} \\\\ -b + c_{\\mathcal{Z}_\\alpha} \\end{array} \\right] \\leq \\theta_2 \\underline{1}_{n_2 \\times 1} & \\\\\n",
    "  \t\t\t\t\t\t\t& \\left[ \\begin{array}{ccc} 0 & I & 0 \\\\ 0 & -I & 0 \\end{array} \\right]^\\top \\Pi^{(1)} + \\left[ \\begin{array}{ccc} I & -G_{\\overline{\\mathcal{Z}}} & 0 \\\\ A & 0 & G_{\\mathcal{Z}_\\alpha} \\end{array} \\right]^\\top \\Lambda^{(1)} = \\left[ \\begin{array}{ccc} 0 & 0 & I \\end{array} \\right]^\\top & \\\\\n",
    "  \t\t\t\t\t\t& (\\Pi^{(2)})^\\top \\underline{1}_{2n_1 \\times 1} + (\\Lambda^{(2)})^\\top \\left[ \\begin{array}{c} c_{\\overline{\\mathcal{Z}}} \\\\ -b + c_{\\mathcal{Z}_\\alpha} \\end{array} \\right] \\leq \\theta_2 \\underline{1}_{n_2 \\times 1} & \\\\\n",
    "  \t\t\t\t\t\t& \\left[ \\begin{array}{ccc} 0 & I & 0 \\\\ 0 & -I & 0 \\end{array} \\right]^\\top \\Pi^{(2)} + \\left[ \\begin{array}{ccc} I & -G_{\\overline{\\mathcal{Z}}} & 0 \\\\ A & 0 & G_{\\mathcal{Z}_\\alpha} \\end{array} \\right]^\\top \\Lambda^{(2)} = - \\left[ \\begin{array}{ccc} 0 & 0 & I \\end{array} \\right]^\\top & \\\\\n",
    "  \t\t\t\t\t\t& \\Lambda^{(i)} \\geq 0 & \\forall i \\in \\{1,2\\} \\\\\n",
    "\\end{array} \n",
    "$$"
   ]
  },
  {
   "cell_type": "markdown",
   "metadata": {},
   "source": [
    "`get_zonot_inclusion_constr` is a function with 5 inputs:\n",
    "- Z_in\n",
    "- Z_circ\n",
    "- A\n",
    "- b\n",
    "- theta_2"
   ]
  }
 ],
 "metadata": {
  "kernelspec": {
   "display_name": "Python 3",
   "language": "python",
   "name": "python3"
  },
  "language_info": {
   "codemirror_mode": {
    "name": "ipython",
    "version": 3
   },
   "file_extension": ".py",
   "mimetype": "text/x-python",
   "name": "python",
   "nbconvert_exporter": "python",
   "pygments_lexer": "ipython3",
   "version": "3.6.0"
  }
 },
 "nbformat": 4,
 "nbformat_minor": 2
}
